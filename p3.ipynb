{
 "cells": [
  {
   "cell_type": "code",
   "execution_count": 1,
   "id": "59dd0cc6-31b9-41fc-bd6f-b269144db8e9",
   "metadata": {},
   "outputs": [],
   "source": [
    "import numpy as np\n",
    "from numpy import dot\n",
    "from numpy.linalg import norm"
   ]
  },
  {
   "cell_type": "code",
   "execution_count": 2,
   "id": "79368743-1e10-4c60-ba9b-d84e60e0e272",
   "metadata": {},
   "outputs": [],
   "source": [
    "def load_glove_model(File):\n",
    "    \"\"\"\n",
    "    Load the GloVe model from a file.\n",
    "    \n",
    "    Args:\n",
    "        File (str): Path to the GloVe embeddings file.\n",
    "    \n",
    "    Returns:\n",
    "        dict: A dictionary mapping words to their embedding vectors.\n",
    "    \"\"\"\n",
    "    print(\"Loading GloVe Model\")\n",
    "    glove_model = {}\n",
    "    with open(File, 'r', encoding=\"utf-8\") as f:\n",
    "        for line in f:\n",
    "            split_line = line.split()\n",
    "            word = split_line[0]\n",
    "            embedding = np.array(split_line[1:], dtype=np.float32)\n",
    "            glove_model[word] = embedding\n",
    "    print(f\"{len(glove_model)} words loaded!\")\n",
    "    return glove_model"
   ]
  },
  {
   "cell_type": "code",
   "execution_count": 3,
   "id": "ed8ef362-ab21-4c8b-b6d0-926cfcd6589e",
   "metadata": {},
   "outputs": [],
   "source": [
    "def cosine_similarity(word1, word2, glove_vectors):\n",
    "    \"\"\"\n",
    "    Compute the cosine similarity between two words using their GloVe vectors.\n",
    "    \n",
    "    Args:\n",
    "        word1 (str): First word.\n",
    "        word2 (str): Second word.\n",
    "        glove_vectors (dict): Dictionary of GloVe vectors.\n",
    "    \n",
    "    Returns:\n",
    "        float or None: Cosine similarity between word1 and word2, or None if a word is not found.\n",
    "    \"\"\"\n",
    "    if word1 in glove_vectors and word2 in glove_vectors:\n",
    "        vec1 = glove_vectors[word1]\n",
    "        vec2 = glove_vectors[word2]\n",
    "        return dot(vec1, vec2) / (norm(vec1) * norm(vec2))\n",
    "    else:\n",
    "        return None"
   ]
  },
  {
   "cell_type": "code",
   "execution_count": 4,
   "id": "c04ff7ef-d5e7-4f85-a86d-c95c6f0d844c",
   "metadata": {},
   "outputs": [],
   "source": [
    "def find_most_similar(word, glove_vectors, top_n=5):\n",
    "    \"\"\"\n",
    "    Find the top-N most similar words to a given word using cosine similarity.\n",
    "    \n",
    "    Args:\n",
    "        word (str): The word to find similar words for.\n",
    "        glove_vectors (dict): Dictionary of GloVe vectors.\n",
    "        top_n (int): Number of most similar words to return.\n",
    "    \n",
    "    Returns:\n",
    "        list or None: List of tuples (word, similarity) of the top-N most similar words, or None if the word is not found.\n",
    "    \"\"\"\n",
    "    if word not in glove_vectors:\n",
    "        return None\n",
    "\n",
    "    word_vec = glove_vectors[word]\n",
    "    similarities = {}\n",
    "\n",
    "    for other_word, other_vec in glove_vectors.items():\n",
    "        if other_word != word:\n",
    "            similarity = cosine_similarity(word, other_word, glove_vectors)\n",
    "            similarities[other_word] = similarity\n",
    "\n",
    "    # Sort by similarity and return the top-N most similar words\n",
    "    most_similar = sorted(similarities.items(), key=lambda item: item[1], reverse=True)[:top_n]\n",
    "    return most_similar"
   ]
  },
  {
   "cell_type": "code",
   "execution_count": 5,
   "id": "cb891de1-8a20-4054-8022-ef8638a949df",
   "metadata": {},
   "outputs": [
    {
     "name": "stdout",
     "output_type": "stream",
     "text": [
      "Loading GloVe Model\n",
      "400000 words loaded!\n",
      "Cosine similarity between 'cat' and 'dog': 0.9218\n",
      "Cosine similarity between 'car' and 'bus': 0.8211\n",
      "Cosine similarity between 'apple' and 'banana': 0.5608\n",
      "\n",
      "Top 5 most similar words to 'king':\n",
      "prince: 0.8236\n",
      "queen: 0.7839\n",
      "ii: 0.7746\n",
      "emperor: 0.7736\n",
      "son: 0.7667\n",
      "\n",
      "Top 5 most similar words to 'computer':\n",
      "computers: 0.9165\n",
      "software: 0.8815\n",
      "technology: 0.8526\n",
      "electronic: 0.8126\n",
      "internet: 0.8060\n",
      "\n",
      "Top 5 most similar words to 'university':\n",
      "college: 0.8745\n",
      "harvard: 0.8711\n",
      "yale: 0.8567\n",
      "graduate: 0.8553\n",
      "institute: 0.8484\n"
     ]
    }
   ],
   "source": [
    "if __name__ == '__main__':\n",
    "    # Load GloVe vectors\n",
    "    glove_vectors = load_glove_model('glove.6B.50d.txt')\n",
    "    \n",
    "    # Compute cosine similarity for the specified word pairs\n",
    "    pairs = [(\"cat\", \"dog\"), (\"car\", \"bus\"), (\"apple\", \"banana\")]\n",
    "    for word1, word2 in pairs:\n",
    "        similarity = cosine_similarity(word1, word2, glove_vectors)\n",
    "        if similarity is not None:\n",
    "            print(f\"Cosine similarity between '{word1}' and '{word2}': {similarity:.4f}\")\n",
    "        else:\n",
    "            print(f\"One of the words '{word1}' or '{word2}' is not in the vocabulary.\")\n",
    "    \n",
    "    # Find the top 5 most similar words for specified words\n",
    "    words_to_check = [\"king\", \"computer\", \"university\"]\n",
    "    for word in words_to_check:\n",
    "        similar_words = find_most_similar(word, glove_vectors)\n",
    "        if similar_words is not None:\n",
    "            print(f\"\\nTop 5 most similar words to '{word}':\")\n",
    "            for similar_word, similarity in similar_words:\n",
    "                print(f\"{similar_word}: {similarity:.4f}\")\n",
    "        else:\n",
    "            print(f\"The word '{word}' is not in the vocabulary.\")\n"
   ]
  },
  {
   "cell_type": "code",
   "execution_count": null,
   "id": "2e07403b-21aa-40b8-bf02-8af02f260000",
   "metadata": {},
   "outputs": [],
   "source": []
  }
 ],
 "metadata": {
  "kernelspec": {
   "display_name": "Python 3 (ipykernel)",
   "language": "python",
   "name": "python3"
  },
  "language_info": {
   "codemirror_mode": {
    "name": "ipython",
    "version": 3
   },
   "file_extension": ".py",
   "mimetype": "text/x-python",
   "name": "python",
   "nbconvert_exporter": "python",
   "pygments_lexer": "ipython3",
   "version": "3.12.4"
  }
 },
 "nbformat": 4,
 "nbformat_minor": 5
}
